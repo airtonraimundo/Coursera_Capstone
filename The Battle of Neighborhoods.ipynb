{
    "cells": [
        {
            "cell_type": "markdown",
            "metadata": {
                "collapsed": true
            },
            "source": "# Capstone Project - The Battle of Neighborhoods"
        },
        {
            "cell_type": "markdown",
            "metadata": {},
            "source": "Author: Airton Raimundo"
        },
        {
            "cell_type": "markdown",
            "metadata": {},
            "source": "## Table of contents\n* [Introduction](#introduction)\n* [Data](#data)\n* [Methodology](#methodology)\n* [Analysis](#analysis)\n* [Results and Discussion](#results)\n* [Conclusion](#conclusion)"
        },
        {
            "cell_type": "markdown",
            "metadata": {},
            "source": "## Introduction <a name=\"introduction\"></a>"
        },
        {
            "cell_type": "markdown",
            "metadata": {},
            "source": "This project will analyze the similarities between New York and Toronto neighborhoods with the aim of facilitating decision making for a person moving from Toronto to New York.\nThe criterion that will be used for this decision is the proximity between commercial establishments in order to preserve the habits of life that the person living in Toronto is used to and thus preserve them when settling in New York."
        },
        {
            "cell_type": "markdown",
            "metadata": {},
            "source": "## Data <a name=\"data\"></a>"
        },
        {
            "cell_type": "markdown",
            "metadata": {},
            "source": "Initially we will need a dataset containing all the neighborhoods in both cities, this dataset can be easily found on the web.\nThe second part will be collecting the locations of New York and Toronto using the geopy library to help us visualize our data.\nTo top it off, let's get information from nearby vendors using the foursquare api.\nThese steps will be done below:"
        },
        {
            "cell_type": "markdown",
            "metadata": {},
            "source": "### General dependencies"
        },
        {
            "cell_type": "code",
            "execution_count": 28,
            "metadata": {},
            "outputs": [],
            "source": "import numpy as np # library to handle data in a vectorized manner\nimport pandas as pd # library for data analsysis\nimport json # library to handle JSON files\n\n#!conda install -c conda-forge geopy --yes\nfrom geopy.geocoders import Nominatim # convert an address into latitude and longitude values\n\nimport requests # library to handle requests\nfrom pandas.io.json import json_normalize # tranform JSON file into a pandas dataframe"
        },
        {
            "cell_type": "markdown",
            "metadata": {},
            "source": "### Building the New York dataframe"
        },
        {
            "cell_type": "code",
            "execution_count": 29,
            "metadata": {},
            "outputs": [],
            "source": "# download the file\n!wget -q -O 'newyork_data.json' https://cocl.us/new_york_dataset\n\n# open and read as json\nwith open('newyork_data.json') as json_data:\n    newyork_data = json.load(json_data)\n    \nneighborhoods_data = newyork_data['features']\n\n# define the dataframe columns\ncolumn_names = ['Borough', 'Neighborhood', 'Latitude', 'Longitude'] \n\n# instantiate the dataframe\nneighborhoods = pd.DataFrame(columns=column_names)\n\n# populate the dataframe\nfor data in neighborhoods_data:\n    borough = neighborhood_name = data['properties']['borough'] \n    neighborhood_name = data['properties']['name']\n        \n    neighborhood_latlon = data['geometry']['coordinates']\n    neighborhood_lat = neighborhood_latlon[1]\n    neighborhood_lon = neighborhood_latlon[0]\n    \n    neighborhoods = neighborhoods.append({'Borough': borough,\n                                          'Neighborhood': neighborhood_name,\n                                          'Latitude': neighborhood_lat,\n                                          'Longitude': neighborhood_lon}, ignore_index=True)"
        },
        {
            "cell_type": "code",
            "execution_count": 30,
            "metadata": {},
            "outputs": [],
            "source": "# using geopy library to get the latitude and longitude values of New York City\naddress = 'New York City, NY'\n\ngeolocator = Nominatim(user_agent=\"Capstone-Airton\")\nlocation = geolocator.geocode(address)\nlatitude = location.latitude\nlongitude = location.longitude"
        },
        {
            "cell_type": "code",
            "execution_count": 31,
            "metadata": {},
            "outputs": [],
            "source": "ny_dataframe = neighborhoods\nny_geolocator = [latitude, longitude]"
        },
        {
            "cell_type": "code",
            "execution_count": 32,
            "metadata": {},
            "outputs": [
                {
                    "data": {
                        "text/plain": "(306, 4)"
                    },
                    "execution_count": 32,
                    "metadata": {},
                    "output_type": "execute_result"
                }
            ],
            "source": "ny_dataframe.shape"
        },
        {
            "cell_type": "code",
            "execution_count": 48,
            "metadata": {},
            "outputs": [],
            "source": "# The code was removed by Watson Studio for sharing."
        },
        {
            "cell_type": "code",
            "execution_count": 35,
            "metadata": {},
            "outputs": [],
            "source": "def getNearbyVenues(names, latitudes, longitudes, radius=500):\n    \n    venues_list=[]\n    for name, lat, lng in zip(names, latitudes, longitudes):\n        # create the API request URL\n        url = 'https://api.foursquare.com/v2/venues/explore?&client_id={}&client_secret={}&v={}&ll={},{}&radius={}&limit={}'.format(\n            CLIENT_ID, \n            CLIENT_SECRET, \n            VERSION, \n            lat, \n            lng, \n            radius, \n            LIMIT)\n            \n        # make the GET request\n        results = requests.get(url).json()[\"response\"]['groups'][0]['items']\n        \n        # return only relevant information for each nearby venue\n        venues_list.append([(\n            name, \n            lat, \n            lng, \n            v['venue']['name'], \n            v['venue']['location']['lat'], \n            v['venue']['location']['lng'],  \n            v['venue']['categories'][0]['name']) for v in results])\n\n    nearby_venues = pd.DataFrame([item for venue_list in venues_list for item in venue_list])\n    nearby_venues.columns = ['Neighborhood', \n                  'Neighborhood Latitude', \n                  'Neighborhood Longitude', \n                  'Venue', \n                  'Venue Latitude', \n                  'Venue Longitude', \n                  'Venue Category']\n    \n    return(nearby_venues)"
        },
        {
            "cell_type": "code",
            "execution_count": 36,
            "metadata": {},
            "outputs": [],
            "source": "ny_venues = getNearbyVenues(names=ny_dataframe['Neighborhood'],\n                                   latitudes=ny_dataframe['Latitude'],\n                                   longitudes=ny_dataframe['Longitude']\n                                  )"
        },
        {
            "cell_type": "code",
            "execution_count": 37,
            "metadata": {},
            "outputs": [
                {
                    "data": {
                        "text/html": "<div>\n<style scoped>\n    .dataframe tbody tr th:only-of-type {\n        vertical-align: middle;\n    }\n\n    .dataframe tbody tr th {\n        vertical-align: top;\n    }\n\n    .dataframe thead th {\n        text-align: right;\n    }\n</style>\n<table border=\"1\" class=\"dataframe\">\n  <thead>\n    <tr style=\"text-align: right;\">\n      <th></th>\n      <th>Neighborhood</th>\n      <th>Neighborhood Latitude</th>\n      <th>Neighborhood Longitude</th>\n      <th>Venue</th>\n      <th>Venue Latitude</th>\n      <th>Venue Longitude</th>\n      <th>Venue Category</th>\n    </tr>\n  </thead>\n  <tbody>\n    <tr>\n      <th>0</th>\n      <td>Wakefield</td>\n      <td>40.894705</td>\n      <td>-73.847201</td>\n      <td>Lollipops Gelato</td>\n      <td>40.894123</td>\n      <td>-73.845892</td>\n      <td>Dessert Shop</td>\n    </tr>\n    <tr>\n      <th>1</th>\n      <td>Wakefield</td>\n      <td>40.894705</td>\n      <td>-73.847201</td>\n      <td>Rite Aid</td>\n      <td>40.896649</td>\n      <td>-73.844846</td>\n      <td>Pharmacy</td>\n    </tr>\n    <tr>\n      <th>2</th>\n      <td>Wakefield</td>\n      <td>40.894705</td>\n      <td>-73.847201</td>\n      <td>Carvel Ice Cream</td>\n      <td>40.890487</td>\n      <td>-73.848568</td>\n      <td>Ice Cream Shop</td>\n    </tr>\n    <tr>\n      <th>3</th>\n      <td>Wakefield</td>\n      <td>40.894705</td>\n      <td>-73.847201</td>\n      <td>Walgreens</td>\n      <td>40.896687</td>\n      <td>-73.844850</td>\n      <td>Pharmacy</td>\n    </tr>\n    <tr>\n      <th>4</th>\n      <td>Wakefield</td>\n      <td>40.894705</td>\n      <td>-73.847201</td>\n      <td>Dunkin'</td>\n      <td>40.890459</td>\n      <td>-73.849089</td>\n      <td>Donut Shop</td>\n    </tr>\n  </tbody>\n</table>\n</div>",
                        "text/plain": "  Neighborhood  Neighborhood Latitude  Neighborhood Longitude  \\\n0    Wakefield              40.894705              -73.847201   \n1    Wakefield              40.894705              -73.847201   \n2    Wakefield              40.894705              -73.847201   \n3    Wakefield              40.894705              -73.847201   \n4    Wakefield              40.894705              -73.847201   \n\n              Venue  Venue Latitude  Venue Longitude  Venue Category  \n0  Lollipops Gelato       40.894123       -73.845892    Dessert Shop  \n1          Rite Aid       40.896649       -73.844846        Pharmacy  \n2  Carvel Ice Cream       40.890487       -73.848568  Ice Cream Shop  \n3         Walgreens       40.896687       -73.844850        Pharmacy  \n4           Dunkin'       40.890459       -73.849089      Donut Shop  "
                    },
                    "execution_count": 37,
                    "metadata": {},
                    "output_type": "execute_result"
                }
            ],
            "source": "ny_venues.head()"
        },
        {
            "cell_type": "markdown",
            "metadata": {},
            "source": "### Building the Toronto dataframe"
        },
        {
            "cell_type": "code",
            "execution_count": 40,
            "metadata": {},
            "outputs": [
                {
                    "data": {
                        "text/html": "<div>\n<style scoped>\n    .dataframe tbody tr th:only-of-type {\n        vertical-align: middle;\n    }\n\n    .dataframe tbody tr th {\n        vertical-align: top;\n    }\n\n    .dataframe thead th {\n        text-align: right;\n    }\n</style>\n<table border=\"1\" class=\"dataframe\">\n  <thead>\n    <tr style=\"text-align: right;\">\n      <th></th>\n      <th>PostalCode</th>\n      <th>Borough</th>\n      <th>Neighbourhood</th>\n    </tr>\n  </thead>\n  <tbody>\n    <tr>\n      <th>0</th>\n      <td>M3K</td>\n      <td>Downsview East</td>\n      <td>CFB Toronto</td>\n    </tr>\n    <tr>\n      <th>1</th>\n      <td>M4E</td>\n      <td>East Toronto</td>\n      <td>The Beaches</td>\n    </tr>\n    <tr>\n      <th>2</th>\n      <td>M4J</td>\n      <td>East Toronto</td>\n      <td>The Danforth East</td>\n    </tr>\n    <tr>\n      <th>3</th>\n      <td>M4K</td>\n      <td>East Toronto</td>\n      <td>The Danforth West / Riverdale</td>\n    </tr>\n    <tr>\n      <th>4</th>\n      <td>M4L</td>\n      <td>East Toronto</td>\n      <td>India Bazaar / The Beaches West</td>\n    </tr>\n  </tbody>\n</table>\n</div>",
                        "text/plain": "  PostalCode         Borough                    Neighbourhood\n0        M3K  Downsview East                      CFB Toronto\n1        M4E    East Toronto                      The Beaches\n2        M4J    East Toronto                The Danforth East\n3        M4K    East Toronto    The Danforth West / Riverdale\n4        M4L    East Toronto  India Bazaar / The Beaches West"
                    },
                    "execution_count": 40,
                    "metadata": {},
                    "output_type": "execute_result"
                }
            ],
            "source": "# The data was downloaded from https://www.aggdata.com/free/canada-postal-codes and saved to github\ndf = pd.read_csv('https://raw.githubusercontent.com/airtonraimundo/Coursera_Capstone/master/ca_postal_codes_v3.csv')\ndf.head()"
        },
        {
            "cell_type": "code",
            "execution_count": 41,
            "metadata": {},
            "outputs": [
                {
                    "data": {
                        "text/html": "<div>\n<style scoped>\n    .dataframe tbody tr th:only-of-type {\n        vertical-align: middle;\n    }\n\n    .dataframe tbody tr th {\n        vertical-align: top;\n    }\n\n    .dataframe thead th {\n        text-align: right;\n    }\n</style>\n<table border=\"1\" class=\"dataframe\">\n  <thead>\n    <tr style=\"text-align: right;\">\n      <th></th>\n      <th>Postal Code</th>\n      <th>Latitude</th>\n      <th>Longitude</th>\n    </tr>\n  </thead>\n  <tbody>\n    <tr>\n      <th>0</th>\n      <td>M1B</td>\n      <td>43.806686</td>\n      <td>-79.194353</td>\n    </tr>\n    <tr>\n      <th>1</th>\n      <td>M1C</td>\n      <td>43.784535</td>\n      <td>-79.160497</td>\n    </tr>\n    <tr>\n      <th>2</th>\n      <td>M1E</td>\n      <td>43.763573</td>\n      <td>-79.188711</td>\n    </tr>\n    <tr>\n      <th>3</th>\n      <td>M1G</td>\n      <td>43.770992</td>\n      <td>-79.216917</td>\n    </tr>\n    <tr>\n      <th>4</th>\n      <td>M1H</td>\n      <td>43.773136</td>\n      <td>-79.239476</td>\n    </tr>\n  </tbody>\n</table>\n</div>",
                        "text/plain": "  Postal Code   Latitude  Longitude\n0         M1B  43.806686 -79.194353\n1         M1C  43.784535 -79.160497\n2         M1E  43.763573 -79.188711\n3         M1G  43.770992 -79.216917\n4         M1H  43.773136 -79.239476"
                    },
                    "execution_count": 41,
                    "metadata": {},
                    "output_type": "execute_result"
                }
            ],
            "source": "df = df.rename(columns={'Neighbourhood': 'Neighborhood'})\ngeo_data = pd.read_csv('https://cocl.us/Geospatial_data')\ngeo_data.head()"
        },
        {
            "cell_type": "code",
            "execution_count": 42,
            "metadata": {},
            "outputs": [
                {
                    "data": {
                        "text/html": "<div>\n<style scoped>\n    .dataframe tbody tr th:only-of-type {\n        vertical-align: middle;\n    }\n\n    .dataframe tbody tr th {\n        vertical-align: top;\n    }\n\n    .dataframe thead th {\n        text-align: right;\n    }\n</style>\n<table border=\"1\" class=\"dataframe\">\n  <thead>\n    <tr style=\"text-align: right;\">\n      <th></th>\n      <th>PostalCode</th>\n      <th>Borough</th>\n      <th>Neighborhood</th>\n      <th>Latitude</th>\n      <th>Longitude</th>\n    </tr>\n  </thead>\n  <tbody>\n    <tr>\n      <th>0</th>\n      <td>M3K</td>\n      <td>Downsview East</td>\n      <td>CFB Toronto</td>\n      <td>43.737473</td>\n      <td>-79.464763</td>\n    </tr>\n    <tr>\n      <th>1</th>\n      <td>M4E</td>\n      <td>East Toronto</td>\n      <td>The Beaches</td>\n      <td>43.676357</td>\n      <td>-79.293031</td>\n    </tr>\n    <tr>\n      <th>2</th>\n      <td>M4J</td>\n      <td>East Toronto</td>\n      <td>The Danforth East</td>\n      <td>43.685347</td>\n      <td>-79.338106</td>\n    </tr>\n    <tr>\n      <th>3</th>\n      <td>M4K</td>\n      <td>East Toronto</td>\n      <td>The Danforth West / Riverdale</td>\n      <td>43.679557</td>\n      <td>-79.352188</td>\n    </tr>\n    <tr>\n      <th>4</th>\n      <td>M4L</td>\n      <td>East Toronto</td>\n      <td>India Bazaar / The Beaches West</td>\n      <td>43.668999</td>\n      <td>-79.315572</td>\n    </tr>\n  </tbody>\n</table>\n</div>",
                        "text/plain": "  PostalCode         Borough                     Neighborhood   Latitude  \\\n0        M3K  Downsview East                      CFB Toronto  43.737473   \n1        M4E    East Toronto                      The Beaches  43.676357   \n2        M4J    East Toronto                The Danforth East  43.685347   \n3        M4K    East Toronto    The Danforth West / Riverdale  43.679557   \n4        M4L    East Toronto  India Bazaar / The Beaches West  43.668999   \n\n   Longitude  \n0 -79.464763  \n1 -79.293031  \n2 -79.338106  \n3 -79.352188  \n4 -79.315572  "
                    },
                    "execution_count": 42,
                    "metadata": {},
                    "output_type": "execute_result"
                }
            ],
            "source": "geo_data.rename(columns={'Postal Code':'PostalCode'}, inplace=True)\ndf2 = pd.merge(df, geo_data, on='PostalCode')\ndf2.head()"
        },
        {
            "cell_type": "code",
            "execution_count": 43,
            "metadata": {},
            "outputs": [],
            "source": "# using geopy library to get the latitude and longitude values of Toronto\naddress = 'Toronto, Ontario'\n\ngeolocator = Nominatim(user_agent=\"Capstone-Airton\")\nlocation = geolocator.geocode(address)\nlatitude = location.latitude\nlongitude = location.longitude"
        },
        {
            "cell_type": "code",
            "execution_count": 44,
            "metadata": {},
            "outputs": [],
            "source": "tt_dataframe = df2.drop([\"PostalCode\"], axis=1)\ntt_geolocator = [latitude, longitude]"
        },
        {
            "cell_type": "code",
            "execution_count": 45,
            "metadata": {},
            "outputs": [],
            "source": "tt_venues = getNearbyVenues(names=tt_dataframe['Neighborhood'],\n                                   latitudes=tt_dataframe['Latitude'],\n                                   longitudes=tt_dataframe['Longitude']\n                                  )"
        },
        {
            "cell_type": "code",
            "execution_count": 46,
            "metadata": {},
            "outputs": [
                {
                    "data": {
                        "text/html": "<div>\n<style scoped>\n    .dataframe tbody tr th:only-of-type {\n        vertical-align: middle;\n    }\n\n    .dataframe tbody tr th {\n        vertical-align: top;\n    }\n\n    .dataframe thead th {\n        text-align: right;\n    }\n</style>\n<table border=\"1\" class=\"dataframe\">\n  <thead>\n    <tr style=\"text-align: right;\">\n      <th></th>\n      <th>Neighborhood</th>\n      <th>Neighborhood Latitude</th>\n      <th>Neighborhood Longitude</th>\n      <th>Venue</th>\n      <th>Venue Latitude</th>\n      <th>Venue Longitude</th>\n      <th>Venue Category</th>\n    </tr>\n  </thead>\n  <tbody>\n    <tr>\n      <th>0</th>\n      <td>CFB Toronto</td>\n      <td>43.737473</td>\n      <td>-79.464763</td>\n      <td>Toronto Downsview Airport (YZD)</td>\n      <td>43.738883</td>\n      <td>-79.470111</td>\n      <td>Airport</td>\n    </tr>\n    <tr>\n      <th>1</th>\n      <td>CFB Toronto</td>\n      <td>43.737473</td>\n      <td>-79.464763</td>\n      <td>Ancaster Park</td>\n      <td>43.734706</td>\n      <td>-79.464777</td>\n      <td>Park</td>\n    </tr>\n    <tr>\n      <th>2</th>\n      <td>CFB Toronto</td>\n      <td>43.737473</td>\n      <td>-79.464763</td>\n      <td>VAUGHAN GARAGE DOOR REPAIR</td>\n      <td>43.734877</td>\n      <td>-79.468584</td>\n      <td>Other Repair Shop</td>\n    </tr>\n    <tr>\n      <th>3</th>\n      <td>The Beaches</td>\n      <td>43.676357</td>\n      <td>-79.293031</td>\n      <td>Glen Manor Ravine</td>\n      <td>43.676821</td>\n      <td>-79.293942</td>\n      <td>Trail</td>\n    </tr>\n    <tr>\n      <th>4</th>\n      <td>The Beaches</td>\n      <td>43.676357</td>\n      <td>-79.293031</td>\n      <td>The Big Carrot Natural Food Market</td>\n      <td>43.678879</td>\n      <td>-79.297734</td>\n      <td>Health Food Store</td>\n    </tr>\n  </tbody>\n</table>\n</div>",
                        "text/plain": "  Neighborhood  Neighborhood Latitude  Neighborhood Longitude  \\\n0  CFB Toronto              43.737473              -79.464763   \n1  CFB Toronto              43.737473              -79.464763   \n2  CFB Toronto              43.737473              -79.464763   \n3  The Beaches              43.676357              -79.293031   \n4  The Beaches              43.676357              -79.293031   \n\n                                Venue  Venue Latitude  Venue Longitude  \\\n0     Toronto Downsview Airport (YZD)       43.738883       -79.470111   \n1                       Ancaster Park       43.734706       -79.464777   \n2          VAUGHAN GARAGE DOOR REPAIR       43.734877       -79.468584   \n3                   Glen Manor Ravine       43.676821       -79.293942   \n4  The Big Carrot Natural Food Market       43.678879       -79.297734   \n\n      Venue Category  \n0            Airport  \n1               Park  \n2  Other Repair Shop  \n3              Trail  \n4  Health Food Store  "
                    },
                    "execution_count": 46,
                    "metadata": {},
                    "output_type": "execute_result"
                }
            ],
            "source": "tt_venues.head()"
        },
        {
            "cell_type": "markdown",
            "metadata": {},
            "source": "## Methodology <a name=\"methodology\"></a>"
        },
        {
            "cell_type": "markdown",
            "metadata": {},
            "source": "In this project we are looking to identify similar characteristics between the cities of New York and Toronto.\nFirst, we will make use of machine learning to determine what are the characteristics that make each neighborhood unique, thus being able to differentiate and group them.\nUsing the k-means algorithm, we will group similar neighborhoods in clusters in each city and then use a classification algorithm to relate the neighborhoods of the two cities to each other."
        },
        {
            "cell_type": "markdown",
            "metadata": {},
            "source": "## Analysis <a name=\"analysis\"></a>"
        },
        {
            "cell_type": "code",
            "execution_count": null,
            "metadata": {},
            "outputs": [],
            "source": ""
        },
        {
            "cell_type": "markdown",
            "metadata": {},
            "source": "## Results and Discussion <a name=\"results\"></a>"
        },
        {
            "cell_type": "code",
            "execution_count": null,
            "metadata": {},
            "outputs": [],
            "source": ""
        },
        {
            "cell_type": "markdown",
            "metadata": {},
            "source": "## Conclusion <a name=\"conclusion\"></a>"
        },
        {
            "cell_type": "code",
            "execution_count": null,
            "metadata": {},
            "outputs": [],
            "source": ""
        }
    ],
    "metadata": {
        "kernelspec": {
            "display_name": "Python 3.6",
            "language": "python",
            "name": "python3"
        },
        "language_info": {
            "codemirror_mode": {
                "name": "ipython",
                "version": 3
            },
            "file_extension": ".py",
            "mimetype": "text/x-python",
            "name": "python",
            "nbconvert_exporter": "python",
            "pygments_lexer": "ipython3",
            "version": "3.6.9"
        }
    },
    "nbformat": 4,
    "nbformat_minor": 1
}